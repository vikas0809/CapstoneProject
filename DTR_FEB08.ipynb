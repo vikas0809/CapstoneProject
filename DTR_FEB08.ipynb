{
 "cells": [
  {
   "cell_type": "code",
   "execution_count": 1,
   "metadata": {
    "id": "ovGfr9w_QxzF"
   },
   "outputs": [],
   "source": [
    "#Import Dependencies \n",
    "\n",
    "import warnings\n",
    "warnings.filterwarnings('ignore')\n",
    "\n",
    "import numpy as np\n",
    "import pandas as pd\n",
    "from collections import Counter\n",
    "import scipy as sp\n",
    "\n",
    "from imblearn.combine import SMOTEENN\n",
    "\n",
    "from sklearn.model_selection import train_test_split\n",
    "from sklearn.metrics import confusion_matrix,classification_report\n",
    "\n",
    "from sklearn.preprocessing import QuantileTransformer,StandardScaler\n",
    "from sklearn.preprocessing import LabelEncoder\n",
    "from sklearn.compose import TransformedTargetRegressor\n",
    "\n",
    "from sklearn.tree import DecisionTreeRegressor\n",
    "from sklearn.tree import DecisionTreeClassifier\n",
    "from sklearn.cluster import KMeans\n",
    "\n",
    "import scikitplot as skplt\n",
    "import matplotlib.pyplot as plt\n",
    "%matplotlib inline\n",
    "\n"
   ]
  },
  {
   "cell_type": "code",
   "execution_count": 2,
   "metadata": {},
   "outputs": [],
   "source": [
    "import seaborn as sns\n",
    "sns.set()"
   ]
  },
  {
   "cell_type": "code",
   "execution_count": 3,
   "metadata": {
    "colab": {
     "base_uri": "https://localhost:8080/",
     "height": 300
    },
    "id": "8axT7rOVRMew",
    "outputId": "29ab5fc1-2b2b-47f8-b1d3-70da4408b122"
   },
   "outputs": [
    {
     "data": {
      "text/html": [
       "<div>\n",
       "<style scoped>\n",
       "    .dataframe tbody tr th:only-of-type {\n",
       "        vertical-align: middle;\n",
       "    }\n",
       "\n",
       "    .dataframe tbody tr th {\n",
       "        vertical-align: top;\n",
       "    }\n",
       "\n",
       "    .dataframe thead th {\n",
       "        text-align: right;\n",
       "    }\n",
       "</style>\n",
       "<table border=\"1\" class=\"dataframe\">\n",
       "  <thead>\n",
       "    <tr style=\"text-align: right;\">\n",
       "      <th></th>\n",
       "      <th>policy_tenure</th>\n",
       "      <th>age_of_car</th>\n",
       "      <th>age_of_policyholder</th>\n",
       "      <th>population_density</th>\n",
       "      <th>make</th>\n",
       "      <th>segment</th>\n",
       "      <th>model</th>\n",
       "      <th>fuel_type</th>\n",
       "      <th>max_torque</th>\n",
       "      <th>max_power</th>\n",
       "      <th>...</th>\n",
       "      <th>is_brake_assist</th>\n",
       "      <th>is_power_door_locks</th>\n",
       "      <th>is_central_locking</th>\n",
       "      <th>is_power_steering</th>\n",
       "      <th>is_driver_seat_height_adjustable</th>\n",
       "      <th>is_day_night_rear_view_mirror</th>\n",
       "      <th>is_ecw</th>\n",
       "      <th>is_speed_alert</th>\n",
       "      <th>ncap_rating</th>\n",
       "      <th>is_claim</th>\n",
       "    </tr>\n",
       "  </thead>\n",
       "  <tbody>\n",
       "    <tr>\n",
       "      <th>0</th>\n",
       "      <td>0.515874</td>\n",
       "      <td>0.05</td>\n",
       "      <td>0.644231</td>\n",
       "      <td>4990</td>\n",
       "      <td>1</td>\n",
       "      <td>A</td>\n",
       "      <td>M1</td>\n",
       "      <td>CNG</td>\n",
       "      <td>60Nm@3500rpm</td>\n",
       "      <td>40.36bhp@6000rpm</td>\n",
       "      <td>...</td>\n",
       "      <td>No</td>\n",
       "      <td>No</td>\n",
       "      <td>No</td>\n",
       "      <td>Yes</td>\n",
       "      <td>No</td>\n",
       "      <td>No</td>\n",
       "      <td>No</td>\n",
       "      <td>Yes</td>\n",
       "      <td>0</td>\n",
       "      <td>0</td>\n",
       "    </tr>\n",
       "    <tr>\n",
       "      <th>1</th>\n",
       "      <td>0.672619</td>\n",
       "      <td>0.02</td>\n",
       "      <td>0.375000</td>\n",
       "      <td>27003</td>\n",
       "      <td>1</td>\n",
       "      <td>A</td>\n",
       "      <td>M1</td>\n",
       "      <td>CNG</td>\n",
       "      <td>60Nm@3500rpm</td>\n",
       "      <td>40.36bhp@6000rpm</td>\n",
       "      <td>...</td>\n",
       "      <td>No</td>\n",
       "      <td>No</td>\n",
       "      <td>No</td>\n",
       "      <td>Yes</td>\n",
       "      <td>No</td>\n",
       "      <td>No</td>\n",
       "      <td>No</td>\n",
       "      <td>Yes</td>\n",
       "      <td>0</td>\n",
       "      <td>0</td>\n",
       "    </tr>\n",
       "    <tr>\n",
       "      <th>2</th>\n",
       "      <td>0.841110</td>\n",
       "      <td>0.02</td>\n",
       "      <td>0.384615</td>\n",
       "      <td>4076</td>\n",
       "      <td>1</td>\n",
       "      <td>A</td>\n",
       "      <td>M1</td>\n",
       "      <td>CNG</td>\n",
       "      <td>60Nm@3500rpm</td>\n",
       "      <td>40.36bhp@6000rpm</td>\n",
       "      <td>...</td>\n",
       "      <td>No</td>\n",
       "      <td>No</td>\n",
       "      <td>No</td>\n",
       "      <td>Yes</td>\n",
       "      <td>No</td>\n",
       "      <td>No</td>\n",
       "      <td>No</td>\n",
       "      <td>Yes</td>\n",
       "      <td>0</td>\n",
       "      <td>0</td>\n",
       "    </tr>\n",
       "    <tr>\n",
       "      <th>3</th>\n",
       "      <td>0.900277</td>\n",
       "      <td>0.11</td>\n",
       "      <td>0.432692</td>\n",
       "      <td>21622</td>\n",
       "      <td>1</td>\n",
       "      <td>C1</td>\n",
       "      <td>M2</td>\n",
       "      <td>Petrol</td>\n",
       "      <td>113Nm@4400rpm</td>\n",
       "      <td>88.50bhp@6000rpm</td>\n",
       "      <td>...</td>\n",
       "      <td>Yes</td>\n",
       "      <td>Yes</td>\n",
       "      <td>Yes</td>\n",
       "      <td>Yes</td>\n",
       "      <td>Yes</td>\n",
       "      <td>Yes</td>\n",
       "      <td>Yes</td>\n",
       "      <td>Yes</td>\n",
       "      <td>2</td>\n",
       "      <td>0</td>\n",
       "    </tr>\n",
       "    <tr>\n",
       "      <th>4</th>\n",
       "      <td>0.596403</td>\n",
       "      <td>0.11</td>\n",
       "      <td>0.634615</td>\n",
       "      <td>34738</td>\n",
       "      <td>2</td>\n",
       "      <td>A</td>\n",
       "      <td>M3</td>\n",
       "      <td>Petrol</td>\n",
       "      <td>91Nm@4250rpm</td>\n",
       "      <td>67.06bhp@5500rpm</td>\n",
       "      <td>...</td>\n",
       "      <td>No</td>\n",
       "      <td>Yes</td>\n",
       "      <td>Yes</td>\n",
       "      <td>Yes</td>\n",
       "      <td>No</td>\n",
       "      <td>Yes</td>\n",
       "      <td>Yes</td>\n",
       "      <td>Yes</td>\n",
       "      <td>2</td>\n",
       "      <td>0</td>\n",
       "    </tr>\n",
       "  </tbody>\n",
       "</table>\n",
       "<p>5 rows × 34 columns</p>\n",
       "</div>"
      ],
      "text/plain": [
       "   policy_tenure  age_of_car  age_of_policyholder  population_density  make  \\\n",
       "0       0.515874        0.05             0.644231                4990     1   \n",
       "1       0.672619        0.02             0.375000               27003     1   \n",
       "2       0.841110        0.02             0.384615                4076     1   \n",
       "3       0.900277        0.11             0.432692               21622     1   \n",
       "4       0.596403        0.11             0.634615               34738     2   \n",
       "\n",
       "  segment model fuel_type     max_torque         max_power  ...  \\\n",
       "0       A    M1       CNG   60Nm@3500rpm  40.36bhp@6000rpm  ...   \n",
       "1       A    M1       CNG   60Nm@3500rpm  40.36bhp@6000rpm  ...   \n",
       "2       A    M1       CNG   60Nm@3500rpm  40.36bhp@6000rpm  ...   \n",
       "3      C1    M2    Petrol  113Nm@4400rpm  88.50bhp@6000rpm  ...   \n",
       "4       A    M3    Petrol   91Nm@4250rpm  67.06bhp@5500rpm  ...   \n",
       "\n",
       "  is_brake_assist  is_power_door_locks is_central_locking is_power_steering  \\\n",
       "0              No                   No                 No               Yes   \n",
       "1              No                   No                 No               Yes   \n",
       "2              No                   No                 No               Yes   \n",
       "3             Yes                  Yes                Yes               Yes   \n",
       "4              No                  Yes                Yes               Yes   \n",
       "\n",
       "  is_driver_seat_height_adjustable is_day_night_rear_view_mirror is_ecw  \\\n",
       "0                               No                            No     No   \n",
       "1                               No                            No     No   \n",
       "2                               No                            No     No   \n",
       "3                              Yes                           Yes    Yes   \n",
       "4                               No                           Yes    Yes   \n",
       "\n",
       "  is_speed_alert  ncap_rating is_claim  \n",
       "0            Yes            0        0  \n",
       "1            Yes            0        0  \n",
       "2            Yes            0        0  \n",
       "3            Yes            2        0  \n",
       "4            Yes            2        0  \n",
       "\n",
       "[5 rows x 34 columns]"
      ]
     },
     "execution_count": 3,
     "metadata": {},
     "output_type": "execute_result"
    }
   ],
   "source": [
    "# Read the csv data and drop non-essantial columns.\n",
    "\n",
    "df=pd.read_csv(\"Data/train.csv\")\n",
    "df.drop(['policy_id','area_cluster','length','width','height','gross_weight','displacement','turning_radius','is_front_fog_lights','is_rear_window_wiper'], axis=1,inplace=True)\n",
    "df.head()"
   ]
  },
  {
   "cell_type": "code",
   "execution_count": 4,
   "metadata": {
    "colab": {
     "base_uri": "https://localhost:8080/"
    },
    "id": "8SJt7zmukVMb",
    "outputId": "380fa4a7-ee1b-4ea0-ae65-301d6c7ffc06"
   },
   "outputs": [
    {
     "data": {
      "text/plain": [
       "policy_tenure                       58591\n",
       "age_of_car                             49\n",
       "age_of_policyholder                    75\n",
       "population_density                     22\n",
       "make                                    5\n",
       "segment                                 6\n",
       "model                                  11\n",
       "fuel_type                               3\n",
       "max_torque                              9\n",
       "max_power                               9\n",
       "engine_type                            11\n",
       "airbags                                 3\n",
       "is_esc                                  2\n",
       "is_adjustable_steering                  2\n",
       "is_tpms                                 2\n",
       "is_parking_sensors                      2\n",
       "is_parking_camera                       2\n",
       "rear_brakes_type                        2\n",
       "cylinder                                2\n",
       "transmission_type                       2\n",
       "gear_box                                2\n",
       "steering_type                           3\n",
       "is_rear_window_washer                   2\n",
       "is_rear_window_defogger                 2\n",
       "is_brake_assist                         2\n",
       "is_power_door_locks                     2\n",
       "is_central_locking                      2\n",
       "is_power_steering                       2\n",
       "is_driver_seat_height_adjustable        2\n",
       "is_day_night_rear_view_mirror           2\n",
       "is_ecw                                  2\n",
       "is_speed_alert                          2\n",
       "ncap_rating                             5\n",
       "is_claim                                2\n",
       "dtype: int64"
      ]
     },
     "execution_count": 4,
     "metadata": {},
     "output_type": "execute_result"
    }
   ],
   "source": [
    "# Check for unique values in the data.\n",
    "# This can help us to visualize and separate classification columns and continuous columns.\n",
    "df.nunique()"
   ]
  },
  {
   "cell_type": "code",
   "execution_count": 5,
   "metadata": {
    "colab": {
     "base_uri": "https://localhost:8080/",
     "height": 281
    },
    "id": "gttVUblUqw9L",
    "outputId": "b7160d0e-9998-4eba-dbe7-cd2b17bb0b3a"
   },
   "outputs": [
    {
     "data": {
      "image/png": "[encoded data removed]",
      "text/plain": [
       "<Figure size 1600x400 with 4 Axes>"
      ]
     },
     "metadata": {},
     "output_type": "display_data"
    }
   ],
   "source": [
    "# Data distribution visualizations\n",
    "\n",
    "fig, (ax0, ax1, ax2, ax3) = plt.subplots(ncols=4, figsize=(16, 4))\n",
    "ax0.set_title(\"policy_tenure\")\n",
    "_ = df[\"policy_tenure\"].hist(bins=40, ax=ax0)\n",
    "ax1.set_title(\"Age of car years\")\n",
    "_ = df[\"age_of_car\"].hist(bins=10,  ax=ax1)\n",
    "ax2.set_title(\"population density\")\n",
    "_ = df[\"population_density\"].hist(bins=10, ax=ax2)\n",
    "ax3.set_title(\"age_of_policyholder\")\n",
    "_ = df[\"age_of_policyholder\"].hist(bins=5, ax=ax3)\n",
    "\n"
   ]
  },
  {
   "cell_type": "code",
   "execution_count": 6,
   "metadata": {
    "colab": {
     "base_uri": "https://localhost:8080/"
    },
    "id": "vv04Yo4gug8S",
    "outputId": "c057868b-4eb1-4139-d02b-e912d8ca1ef1"
   },
   "outputs": [
    {
     "name": "stdout",
     "output_type": "stream",
     "text": [
      "Fraction of low-risk customers = 93.6%\n",
      "Fraction of high risk customers = 6.4%\n"
     ]
    }
   ],
   "source": [
    "# Print high risk and low risk customers percentage\n",
    "\n",
    "claims=Counter(df['is_claim'])\n",
    "print(\n",
    "    \"Fraction of low-risk customers = {0:.1%}\".format(\n",
    "        claims[0] / (claims[0]+claims[1]))\n",
    "    )\n",
    "print(\n",
    "    \"Fraction of high risk customers = {0:.1%}\".format(\n",
    "        claims[1] / (claims[0]+claims[1]))\n",
    "    )"
   ]
  },
  {
   "cell_type": "code",
   "execution_count": 7,
   "metadata": {
    "id": "YpYLmjMUuey3"
   },
   "outputs": [
    {
     "name": "stdout",
     "output_type": "stream",
     "text": [
      "Average Frequency = 0.06396777717094485\n"
     ]
    }
   ],
   "source": [
    "print(\n",
    "    \"Average Frequency = {}\".format(np.average(df[\"is_claim\"]))\n",
    ")"
   ]
  },
  {
   "cell_type": "code",
   "execution_count": 8,
   "metadata": {},
   "outputs": [],
   "source": [
    "# Create our features\n",
    "X=df.drop('is_claim',axis=1)\n",
    "\n",
    "# Create our target\n",
    "y = df['is_claim']"
   ]
  },
  {
   "cell_type": "code",
   "execution_count": 9,
   "metadata": {
    "colab": {
     "base_uri": "https://localhost:8080/"
    },
    "id": "PvnOxTbORQ6o",
    "outputId": "36e20bc0-f8c5-4c6a-d6f1-a087a4f1209b"
   },
   "outputs": [
    {
     "data": {
      "text/plain": [
       "['segment',\n",
       " 'model',\n",
       " 'fuel_type',\n",
       " 'max_torque',\n",
       " 'max_power',\n",
       " 'engine_type',\n",
       " 'is_esc',\n",
       " 'is_adjustable_steering',\n",
       " 'is_tpms',\n",
       " 'is_parking_sensors',\n",
       " 'is_parking_camera',\n",
       " 'rear_brakes_type',\n",
       " 'transmission_type',\n",
       " 'steering_type',\n",
       " 'is_rear_window_washer',\n",
       " 'is_rear_window_defogger',\n",
       " 'is_brake_assist',\n",
       " 'is_power_door_locks',\n",
       " 'is_central_locking',\n",
       " 'is_power_steering',\n",
       " 'is_driver_seat_height_adjustable',\n",
       " 'is_day_night_rear_view_mirror',\n",
       " 'is_ecw',\n",
       " 'is_speed_alert']"
      ]
     },
     "execution_count": 9,
     "metadata": {},
     "output_type": "execute_result"
    }
   ],
   "source": [
    "# Get the list of all object type columns and plan our encoding strategy.\n",
    "column_list = list(X.select_dtypes(include=['O']).columns)\n",
    "column_list"
   ]
  },
  {
   "cell_type": "code",
   "execution_count": 10,
   "metadata": {
    "colab": {
     "base_uri": "https://localhost:8080/"
    },
    "id": "G62LybrRRUqi",
    "outputId": "18b6ebb0-1d11-41c3-dfb1-517edf828516"
   },
   "outputs": [
    {
     "data": {
      "text/plain": [
       "['is_esc',\n",
       " 'is_adjustable_steering',\n",
       " 'is_tpms',\n",
       " 'is_parking_sensors',\n",
       " 'is_parking_camera',\n",
       " 'is_rear_window_washer',\n",
       " 'is_rear_window_defogger',\n",
       " 'is_brake_assist',\n",
       " 'is_power_door_locks',\n",
       " 'is_central_locking',\n",
       " 'is_power_steering',\n",
       " 'is_driver_seat_height_adjustable',\n",
       " 'is_day_night_rear_view_mirror',\n",
       " 'is_ecw',\n",
       " 'is_speed_alert']"
      ]
     },
     "execution_count": 10,
     "metadata": {},
     "output_type": "execute_result"
    }
   ],
   "source": [
    "# As all the columns starts with \"is_\" are YES/NO columns.\n",
    "# As per our encoding sttategy,we sepatated binary columns from column_list\n",
    "import re\n",
    "binary_cols=[cols for cols in column_list if re.search(r'^is_',cols)]\n",
    "binary_cols"
   ]
  },
  {
   "cell_type": "code",
   "execution_count": 11,
   "metadata": {
    "colab": {
     "base_uri": "https://localhost:8080/",
     "height": 300
    },
    "id": "ELDCkI-XRapE",
    "outputId": "728e7c04-464b-4747-8bad-6c0f333bbe78",
    "scrolled": false
   },
   "outputs": [
    {
     "data": {
      "text/html": [
       "<div>\n",
       "<style scoped>\n",
       "    .dataframe tbody tr th:only-of-type {\n",
       "        vertical-align: middle;\n",
       "    }\n",
       "\n",
       "    .dataframe tbody tr th {\n",
       "        vertical-align: top;\n",
       "    }\n",
       "\n",
       "    .dataframe thead th {\n",
       "        text-align: right;\n",
       "    }\n",
       "</style>\n",
       "<table border=\"1\" class=\"dataframe\">\n",
       "  <thead>\n",
       "    <tr style=\"text-align: right;\">\n",
       "      <th></th>\n",
       "      <th>policy_tenure</th>\n",
       "      <th>age_of_car</th>\n",
       "      <th>age_of_policyholder</th>\n",
       "      <th>population_density</th>\n",
       "      <th>make</th>\n",
       "      <th>segment</th>\n",
       "      <th>model</th>\n",
       "      <th>fuel_type</th>\n",
       "      <th>max_torque</th>\n",
       "      <th>max_power</th>\n",
       "      <th>...</th>\n",
       "      <th>is_rear_window_defogger</th>\n",
       "      <th>is_brake_assist</th>\n",
       "      <th>is_power_door_locks</th>\n",
       "      <th>is_central_locking</th>\n",
       "      <th>is_power_steering</th>\n",
       "      <th>is_driver_seat_height_adjustable</th>\n",
       "      <th>is_day_night_rear_view_mirror</th>\n",
       "      <th>is_ecw</th>\n",
       "      <th>is_speed_alert</th>\n",
       "      <th>ncap_rating</th>\n",
       "    </tr>\n",
       "  </thead>\n",
       "  <tbody>\n",
       "    <tr>\n",
       "      <th>0</th>\n",
       "      <td>0.515874</td>\n",
       "      <td>0.05</td>\n",
       "      <td>0.644231</td>\n",
       "      <td>4990</td>\n",
       "      <td>1</td>\n",
       "      <td>A</td>\n",
       "      <td>M1</td>\n",
       "      <td>CNG</td>\n",
       "      <td>60Nm@3500rpm</td>\n",
       "      <td>40.36bhp@6000rpm</td>\n",
       "      <td>...</td>\n",
       "      <td>0</td>\n",
       "      <td>0</td>\n",
       "      <td>0</td>\n",
       "      <td>0</td>\n",
       "      <td>1</td>\n",
       "      <td>0</td>\n",
       "      <td>0</td>\n",
       "      <td>0</td>\n",
       "      <td>1</td>\n",
       "      <td>0</td>\n",
       "    </tr>\n",
       "    <tr>\n",
       "      <th>1</th>\n",
       "      <td>0.672619</td>\n",
       "      <td>0.02</td>\n",
       "      <td>0.375000</td>\n",
       "      <td>27003</td>\n",
       "      <td>1</td>\n",
       "      <td>A</td>\n",
       "      <td>M1</td>\n",
       "      <td>CNG</td>\n",
       "      <td>60Nm@3500rpm</td>\n",
       "      <td>40.36bhp@6000rpm</td>\n",
       "      <td>...</td>\n",
       "      <td>0</td>\n",
       "      <td>0</td>\n",
       "      <td>0</td>\n",
       "      <td>0</td>\n",
       "      <td>1</td>\n",
       "      <td>0</td>\n",
       "      <td>0</td>\n",
       "      <td>0</td>\n",
       "      <td>1</td>\n",
       "      <td>0</td>\n",
       "    </tr>\n",
       "    <tr>\n",
       "      <th>2</th>\n",
       "      <td>0.841110</td>\n",
       "      <td>0.02</td>\n",
       "      <td>0.384615</td>\n",
       "      <td>4076</td>\n",
       "      <td>1</td>\n",
       "      <td>A</td>\n",
       "      <td>M1</td>\n",
       "      <td>CNG</td>\n",
       "      <td>60Nm@3500rpm</td>\n",
       "      <td>40.36bhp@6000rpm</td>\n",
       "      <td>...</td>\n",
       "      <td>0</td>\n",
       "      <td>0</td>\n",
       "      <td>0</td>\n",
       "      <td>0</td>\n",
       "      <td>1</td>\n",
       "      <td>0</td>\n",
       "      <td>0</td>\n",
       "      <td>0</td>\n",
       "      <td>1</td>\n",
       "      <td>0</td>\n",
       "    </tr>\n",
       "    <tr>\n",
       "      <th>3</th>\n",
       "      <td>0.900277</td>\n",
       "      <td>0.11</td>\n",
       "      <td>0.432692</td>\n",
       "      <td>21622</td>\n",
       "      <td>1</td>\n",
       "      <td>C1</td>\n",
       "      <td>M2</td>\n",
       "      <td>Petrol</td>\n",
       "      <td>113Nm@4400rpm</td>\n",
       "      <td>88.50bhp@6000rpm</td>\n",
       "      <td>...</td>\n",
       "      <td>1</td>\n",
       "      <td>1</td>\n",
       "      <td>1</td>\n",
       "      <td>1</td>\n",
       "      <td>1</td>\n",
       "      <td>1</td>\n",
       "      <td>1</td>\n",
       "      <td>1</td>\n",
       "      <td>1</td>\n",
       "      <td>2</td>\n",
       "    </tr>\n",
       "    <tr>\n",
       "      <th>4</th>\n",
       "      <td>0.596403</td>\n",
       "      <td>0.11</td>\n",
       "      <td>0.634615</td>\n",
       "      <td>34738</td>\n",
       "      <td>2</td>\n",
       "      <td>A</td>\n",
       "      <td>M3</td>\n",
       "      <td>Petrol</td>\n",
       "      <td>91Nm@4250rpm</td>\n",
       "      <td>67.06bhp@5500rpm</td>\n",
       "      <td>...</td>\n",
       "      <td>0</td>\n",
       "      <td>0</td>\n",
       "      <td>1</td>\n",
       "      <td>1</td>\n",
       "      <td>1</td>\n",
       "      <td>0</td>\n",
       "      <td>1</td>\n",
       "      <td>1</td>\n",
       "      <td>1</td>\n",
       "      <td>2</td>\n",
       "    </tr>\n",
       "  </tbody>\n",
       "</table>\n",
       "<p>5 rows × 33 columns</p>\n",
       "</div>"
      ],
      "text/plain": [
       "   policy_tenure  age_of_car  age_of_policyholder  population_density  make  \\\n",
       "0       0.515874        0.05             0.644231                4990     1   \n",
       "1       0.672619        0.02             0.375000               27003     1   \n",
       "2       0.841110        0.02             0.384615                4076     1   \n",
       "3       0.900277        0.11             0.432692               21622     1   \n",
       "4       0.596403        0.11             0.634615               34738     2   \n",
       "\n",
       "  segment model fuel_type     max_torque         max_power  ...  \\\n",
       "0       A    M1       CNG   60Nm@3500rpm  40.36bhp@6000rpm  ...   \n",
       "1       A    M1       CNG   60Nm@3500rpm  40.36bhp@6000rpm  ...   \n",
       "2       A    M1       CNG   60Nm@3500rpm  40.36bhp@6000rpm  ...   \n",
       "3      C1    M2    Petrol  113Nm@4400rpm  88.50bhp@6000rpm  ...   \n",
       "4       A    M3    Petrol   91Nm@4250rpm  67.06bhp@5500rpm  ...   \n",
       "\n",
       "  is_rear_window_defogger  is_brake_assist  is_power_door_locks  \\\n",
       "0                       0                0                    0   \n",
       "1                       0                0                    0   \n",
       "2                       0                0                    0   \n",
       "3                       1                1                    1   \n",
       "4                       0                0                    1   \n",
       "\n",
       "   is_central_locking  is_power_steering  is_driver_seat_height_adjustable  \\\n",
       "0                   0                  1                                 0   \n",
       "1                   0                  1                                 0   \n",
       "2                   0                  1                                 0   \n",
       "3                   1                  1                                 1   \n",
       "4                   1                  1                                 0   \n",
       "\n",
       "   is_day_night_rear_view_mirror is_ecw  is_speed_alert ncap_rating  \n",
       "0                              0      0               1           0  \n",
       "1                              0      0               1           0  \n",
       "2                              0      0               1           0  \n",
       "3                              1      1               1           2  \n",
       "4                              1      1               1           2  \n",
       "\n",
       "[5 rows x 33 columns]"
      ]
     },
     "execution_count": 11,
     "metadata": {},
     "output_type": "execute_result"
    }
   ],
   "source": [
    "# Perform label encoding on binary columns which converts YES/NO into 1/0 respectively .\n",
    "le = LabelEncoder()\n",
    "for col in binary_cols:\n",
    "    X[col] = le.fit_transform(X[col])\n",
    "X.head()"
   ]
  },
  {
   "cell_type": "markdown",
   "metadata": {},
   "source": [
    "# Phase 1- As is\n",
    "\n",
    "In this phase,we will do label encoding on remaining columns and check out model scores and confusion matrix."
   ]
  },
  {
   "cell_type": "code",
   "execution_count": 12,
   "metadata": {},
   "outputs": [],
   "source": [
    "X_phase1=X.copy()"
   ]
  },
  {
   "cell_type": "code",
   "execution_count": 13,
   "metadata": {},
   "outputs": [
    {
     "data": {
      "text/plain": [
       "['segment',\n",
       " 'model',\n",
       " 'fuel_type',\n",
       " 'max_torque',\n",
       " 'max_power',\n",
       " 'engine_type',\n",
       " 'rear_brakes_type',\n",
       " 'transmission_type',\n",
       " 'steering_type']"
      ]
     },
     "execution_count": 13,
     "metadata": {},
     "output_type": "execute_result"
    }
   ],
   "source": [
    "column_list = list(X_phase1.select_dtypes(include=['O']).columns)\n",
    "column_list"
   ]
  },
  {
   "cell_type": "code",
   "execution_count": 14,
   "metadata": {
    "scrolled": true
   },
   "outputs": [
    {
     "data": {
      "text/html": [
       "<div>\n",
       "<style scoped>\n",
       "    .dataframe tbody tr th:only-of-type {\n",
       "        vertical-align: middle;\n",
       "    }\n",
       "\n",
       "    .dataframe tbody tr th {\n",
       "        vertical-align: top;\n",
       "    }\n",
       "\n",
       "    .dataframe thead th {\n",
       "        text-align: right;\n",
       "    }\n",
       "</style>\n",
       "<table border=\"1\" class=\"dataframe\">\n",
       "  <thead>\n",
       "    <tr style=\"text-align: right;\">\n",
       "      <th></th>\n",
       "      <th>policy_tenure</th>\n",
       "      <th>age_of_car</th>\n",
       "      <th>age_of_policyholder</th>\n",
       "      <th>population_density</th>\n",
       "      <th>make</th>\n",
       "      <th>segment</th>\n",
       "      <th>model</th>\n",
       "      <th>fuel_type</th>\n",
       "      <th>max_torque</th>\n",
       "      <th>max_power</th>\n",
       "      <th>...</th>\n",
       "      <th>is_rear_window_defogger</th>\n",
       "      <th>is_brake_assist</th>\n",
       "      <th>is_power_door_locks</th>\n",
       "      <th>is_central_locking</th>\n",
       "      <th>is_power_steering</th>\n",
       "      <th>is_driver_seat_height_adjustable</th>\n",
       "      <th>is_day_night_rear_view_mirror</th>\n",
       "      <th>is_ecw</th>\n",
       "      <th>is_speed_alert</th>\n",
       "      <th>ncap_rating</th>\n",
       "    </tr>\n",
       "  </thead>\n",
       "  <tbody>\n",
       "    <tr>\n",
       "      <th>0</th>\n",
       "      <td>0.515874</td>\n",
       "      <td>0.05</td>\n",
       "      <td>0.644231</td>\n",
       "      <td>4990</td>\n",
       "      <td>1</td>\n",
       "      <td>0</td>\n",
       "      <td>0</td>\n",
       "      <td>0</td>\n",
       "      <td>5</td>\n",
       "      <td>2</td>\n",
       "      <td>...</td>\n",
       "      <td>0</td>\n",
       "      <td>0</td>\n",
       "      <td>0</td>\n",
       "      <td>0</td>\n",
       "      <td>1</td>\n",
       "      <td>0</td>\n",
       "      <td>0</td>\n",
       "      <td>0</td>\n",
       "      <td>1</td>\n",
       "      <td>0</td>\n",
       "    </tr>\n",
       "    <tr>\n",
       "      <th>1</th>\n",
       "      <td>0.672619</td>\n",
       "      <td>0.02</td>\n",
       "      <td>0.375000</td>\n",
       "      <td>27003</td>\n",
       "      <td>1</td>\n",
       "      <td>0</td>\n",
       "      <td>0</td>\n",
       "      <td>0</td>\n",
       "      <td>5</td>\n",
       "      <td>2</td>\n",
       "      <td>...</td>\n",
       "      <td>0</td>\n",
       "      <td>0</td>\n",
       "      <td>0</td>\n",
       "      <td>0</td>\n",
       "      <td>1</td>\n",
       "      <td>0</td>\n",
       "      <td>0</td>\n",
       "      <td>0</td>\n",
       "      <td>1</td>\n",
       "      <td>0</td>\n",
       "    </tr>\n",
       "    <tr>\n",
       "      <th>2</th>\n",
       "      <td>0.841110</td>\n",
       "      <td>0.02</td>\n",
       "      <td>0.384615</td>\n",
       "      <td>4076</td>\n",
       "      <td>1</td>\n",
       "      <td>0</td>\n",
       "      <td>0</td>\n",
       "      <td>0</td>\n",
       "      <td>5</td>\n",
       "      <td>2</td>\n",
       "      <td>...</td>\n",
       "      <td>0</td>\n",
       "      <td>0</td>\n",
       "      <td>0</td>\n",
       "      <td>0</td>\n",
       "      <td>1</td>\n",
       "      <td>0</td>\n",
       "      <td>0</td>\n",
       "      <td>0</td>\n",
       "      <td>1</td>\n",
       "      <td>0</td>\n",
       "    </tr>\n",
       "    <tr>\n",
       "      <th>3</th>\n",
       "      <td>0.900277</td>\n",
       "      <td>0.11</td>\n",
       "      <td>0.432692</td>\n",
       "      <td>21622</td>\n",
       "      <td>1</td>\n",
       "      <td>3</td>\n",
       "      <td>3</td>\n",
       "      <td>2</td>\n",
       "      <td>0</td>\n",
       "      <td>6</td>\n",
       "      <td>...</td>\n",
       "      <td>1</td>\n",
       "      <td>1</td>\n",
       "      <td>1</td>\n",
       "      <td>1</td>\n",
       "      <td>1</td>\n",
       "      <td>1</td>\n",
       "      <td>1</td>\n",
       "      <td>1</td>\n",
       "      <td>1</td>\n",
       "      <td>2</td>\n",
       "    </tr>\n",
       "    <tr>\n",
       "      <th>4</th>\n",
       "      <td>0.596403</td>\n",
       "      <td>0.11</td>\n",
       "      <td>0.634615</td>\n",
       "      <td>34738</td>\n",
       "      <td>2</td>\n",
       "      <td>0</td>\n",
       "      <td>4</td>\n",
       "      <td>2</td>\n",
       "      <td>8</td>\n",
       "      <td>5</td>\n",
       "      <td>...</td>\n",
       "      <td>0</td>\n",
       "      <td>0</td>\n",
       "      <td>1</td>\n",
       "      <td>1</td>\n",
       "      <td>1</td>\n",
       "      <td>0</td>\n",
       "      <td>1</td>\n",
       "      <td>1</td>\n",
       "      <td>1</td>\n",
       "      <td>2</td>\n",
       "    </tr>\n",
       "  </tbody>\n",
       "</table>\n",
       "<p>5 rows × 33 columns</p>\n",
       "</div>"
      ],
      "text/plain": [
       "   policy_tenure  age_of_car  age_of_policyholder  population_density  make  \\\n",
       "0       0.515874        0.05             0.644231                4990     1   \n",
       "1       0.672619        0.02             0.375000               27003     1   \n",
       "2       0.841110        0.02             0.384615                4076     1   \n",
       "3       0.900277        0.11             0.432692               21622     1   \n",
       "4       0.596403        0.11             0.634615               34738     2   \n",
       "\n",
       "   segment  model  fuel_type  max_torque  max_power  ...  \\\n",
       "0        0      0          0           5          2  ...   \n",
       "1        0      0          0           5          2  ...   \n",
       "2        0      0          0           5          2  ...   \n",
       "3        3      3          2           0          6  ...   \n",
       "4        0      4          2           8          5  ...   \n",
       "\n",
       "   is_rear_window_defogger  is_brake_assist  is_power_door_locks  \\\n",
       "0                        0                0                    0   \n",
       "1                        0                0                    0   \n",
       "2                        0                0                    0   \n",
       "3                        1                1                    1   \n",
       "4                        0                0                    1   \n",
       "\n",
       "   is_central_locking  is_power_steering  is_driver_seat_height_adjustable  \\\n",
       "0                   0                  1                                 0   \n",
       "1                   0                  1                                 0   \n",
       "2                   0                  1                                 0   \n",
       "3                   1                  1                                 1   \n",
       "4                   1                  1                                 0   \n",
       "\n",
       "   is_day_night_rear_view_mirror  is_ecw  is_speed_alert  ncap_rating  \n",
       "0                              0       0               1            0  \n",
       "1                              0       0               1            0  \n",
       "2                              0       0               1            0  \n",
       "3                              1       1               1            2  \n",
       "4                              1       1               1            2  \n",
       "\n",
       "[5 rows x 33 columns]"
      ]
     },
     "execution_count": 14,
     "metadata": {},
     "output_type": "execute_result"
    }
   ],
   "source": [
    "for col in column_list:\n",
    "    X_phase1[col] = le.fit_transform(X_phase1[col])\n",
    "X_phase1.head()"
   ]
  },
  {
   "cell_type": "code",
   "execution_count": 15,
   "metadata": {},
   "outputs": [
    {
     "data": {
      "text/plain": [
       "<AxesSubplot: >"
      ]
     },
     "execution_count": 15,
     "metadata": {},
     "output_type": "execute_result"
    },
    {
     "data": {
      "image/png": "[encoded data removed]",
      "text/plain": [
       "<Figure size 1000x500 with 1 Axes>"
      ]
     },
     "metadata": {},
     "output_type": "display_data"
    }
   ],
   "source": [
    "# Create a instance of Decisoin Tree classifier\n",
    "dtc = DecisionTreeClassifier()\n",
    "# Fit the data \n",
    "dtc=dtc.fit(X_phase1, y)\n",
    "\n",
    "# List the features sorted in descending order by feature importance and only keeping top 10.\n",
    "feature_vals=[]\n",
    "feature_names=[]\n",
    "features_rank = sorted(zip(dtc.feature_importances_, X_phase1.columns), reverse=True)\n",
    "for feature in features_rank[:10]:\n",
    "    feature_vals.append(feature[0])\n",
    "    feature_names.append(feature[1])\n",
    "\n",
    "feature_df=pd.DataFrame({'name':feature_names,'values':feature_vals},index=feature_names)\n",
    "feature_df.plot.bar(figsize=(10,5),log=True)\n"
   ]
  },
  {
   "cell_type": "code",
   "execution_count": 16,
   "metadata": {},
   "outputs": [],
   "source": [
    "# Split the data into train and test datasets\n",
    "X_train, X_test, y_train, y_test = train_test_split(X_phase1, y)\n",
    "# Scale the data using standard scaler\n",
    "std_scaler=StandardScaler()\n",
    "X_train_scaled=std_scaler.fit_transform(X_train)\n",
    "X_test_scaled=std_scaler.fit_transform(X_test)"
   ]
  },
  {
   "cell_type": "code",
   "execution_count": 17,
   "metadata": {},
   "outputs": [
    {
     "name": "stdout",
     "output_type": "stream",
     "text": [
      "              precision    recall  f1-score   support\n",
      "\n",
      "           0       0.94      0.92      0.93     13718\n",
      "           1       0.07      0.09      0.08       930\n",
      "\n",
      "    accuracy                           0.87     14648\n",
      "   macro avg       0.50      0.50      0.50     14648\n",
      "weighted avg       0.88      0.87      0.87     14648\n",
      "\n"
     ]
    },
    {
     "data": {
      "text/plain": [
       "<AxesSubplot: title={'center': 'Confusion Matrix'}, xlabel='Predicted label', ylabel='True label'>"
      ]
     },
     "execution_count": 17,
     "metadata": {},
     "output_type": "execute_result"
    },
    {
     "data": {
      "image/png": "[encoded data removed]",
      "text/plain": [
       "<Figure size 1000x500 with 2 Axes>"
      ]
     },
     "metadata": {},
     "output_type": "display_data"
    }
   ],
   "source": [
    "# Intiate the instance of regressor\n",
    "dtr = TransformedTargetRegressor(regressor=DecisionTreeRegressor(), transformer=QuantileTransformer(output_distribution='normal'))\n",
    "# Train and test data\n",
    "dtr = dtr.fit(X_train_scaled, y_train)\n",
    "y_pred = dtr.predict(X_test_scaled)\n",
    "\n",
    "\n",
    "#Print classification report\n",
    "print(classification_report(y_test, y_pred))\n",
    "# Plot the confusion matrix\n",
    "skplt.metrics.plot_confusion_matrix(y_test, y_pred, normalize=True, title = 'Confusion Matrix',figsize=(10,5))"
   ]
  },
  {
   "cell_type": "markdown",
   "metadata": {},
   "source": [
    "# PHASE 2-Retesting with Sampling\n",
    "\n",
    "### As we notice above,the model does not perform very well.The model is biased toward one class i.e it only predicts with 7% precesion for class 1.\n",
    "\n",
    "### In this second phase we will continue the phase 1,perform SMOTEENN sampling technique and retest our model."
   ]
  },
  {
   "cell_type": "code",
   "execution_count": 18,
   "metadata": {},
   "outputs": [],
   "source": [
    "# Resampling the data with SMOTEENN\n",
    "X_sampled,y_sampled=SMOTEENN().fit_resample(X_phase1,y)"
   ]
  },
  {
   "cell_type": "code",
   "execution_count": 19,
   "metadata": {},
   "outputs": [],
   "source": [
    "# Split the data into train and test datasets\n",
    "X_train, X_test, y_train, y_test = train_test_split(X_phase1, y)\n",
    "# Scale the data using standard scaler\n",
    "std_scaler=StandardScaler()\n",
    "X_train_scaled=std_scaler.fit_transform(X_train)\n",
    "X_test_scaled=std_scaler.fit_transform(X_test)"
   ]
  },
  {
   "cell_type": "code",
   "execution_count": 20,
   "metadata": {},
   "outputs": [
    {
     "name": "stdout",
     "output_type": "stream",
     "text": [
      "              precision    recall  f1-score   support\n",
      "\n",
      "           0       0.94      0.92      0.93     13723\n",
      "           1       0.07      0.09      0.08       925\n",
      "\n",
      "    accuracy                           0.87     14648\n",
      "   macro avg       0.51      0.51      0.51     14648\n",
      "weighted avg       0.88      0.87      0.88     14648\n",
      "\n"
     ]
    },
    {
     "data": {
      "text/plain": [
       "<AxesSubplot: title={'center': 'Confusion Matrix'}, xlabel='Predicted label', ylabel='True label'>"
      ]
     },
     "execution_count": 20,
     "metadata": {},
     "output_type": "execute_result"
    },
    {
     "data": {
      "image/png": "[encoded data removed]",
      "text/plain": [
       "<Figure size 1000x500 with 2 Axes>"
      ]
     },
     "metadata": {},
     "output_type": "display_data"
    }
   ],
   "source": [
    "# Intiate the instance of regressor\n",
    "dtr = TransformedTargetRegressor(regressor=DecisionTreeRegressor(), transformer=QuantileTransformer(output_distribution='normal'))\n",
    "# Train and test data\n",
    "dtr = dtr.fit(X_train_scaled, y_train)\n",
    "y_pred = dtr.predict(X_test_scaled)\n",
    "\n",
    "\n",
    "#Print classification report\n",
    "print(classification_report(y_test, y_pred))\n",
    "# Plot the confusion matrix\n",
    "skplt.metrics.plot_confusion_matrix(y_test, y_pred, normalize=True, title = 'Confusion Matrix',figsize=(10,5))"
   ]
  },
  {
   "cell_type": "markdown",
   "metadata": {},
   "source": [
    "# PHASE 3 - Feature Engineering\n",
    "\n",
    "### In this phase,we will perform some feature reductions and creating new features.\n",
    "\n",
    "### For this process,we will combine some features based on their relations with other features and create new feature.\n",
    "### After that we will perform the phase 2 again i.e perform sampling technqiue on modified features and then test our model."
   ]
  },
  {
   "cell_type": "code",
   "execution_count": 21,
   "metadata": {},
   "outputs": [
    {
     "data": {
      "text/html": [
       "<div>\n",
       "<style scoped>\n",
       "    .dataframe tbody tr th:only-of-type {\n",
       "        vertical-align: middle;\n",
       "    }\n",
       "\n",
       "    .dataframe tbody tr th {\n",
       "        vertical-align: top;\n",
       "    }\n",
       "\n",
       "    .dataframe thead th {\n",
       "        text-align: right;\n",
       "    }\n",
       "</style>\n",
       "<table border=\"1\" class=\"dataframe\">\n",
       "  <thead>\n",
       "    <tr style=\"text-align: right;\">\n",
       "      <th></th>\n",
       "      <th>policy_tenure</th>\n",
       "      <th>age_of_car</th>\n",
       "      <th>age_of_policyholder</th>\n",
       "      <th>population_density</th>\n",
       "      <th>make</th>\n",
       "      <th>segment</th>\n",
       "      <th>model</th>\n",
       "      <th>fuel_type</th>\n",
       "      <th>max_torque</th>\n",
       "      <th>max_power</th>\n",
       "      <th>...</th>\n",
       "      <th>is_rear_window_defogger</th>\n",
       "      <th>is_brake_assist</th>\n",
       "      <th>is_power_door_locks</th>\n",
       "      <th>is_central_locking</th>\n",
       "      <th>is_power_steering</th>\n",
       "      <th>is_driver_seat_height_adjustable</th>\n",
       "      <th>is_day_night_rear_view_mirror</th>\n",
       "      <th>is_ecw</th>\n",
       "      <th>is_speed_alert</th>\n",
       "      <th>ncap_rating</th>\n",
       "    </tr>\n",
       "  </thead>\n",
       "  <tbody>\n",
       "    <tr>\n",
       "      <th>0</th>\n",
       "      <td>0.515874</td>\n",
       "      <td>0.05</td>\n",
       "      <td>0.644231</td>\n",
       "      <td>4990</td>\n",
       "      <td>1</td>\n",
       "      <td>A</td>\n",
       "      <td>M1</td>\n",
       "      <td>CNG</td>\n",
       "      <td>60Nm@3500rpm</td>\n",
       "      <td>40.36bhp@6000rpm</td>\n",
       "      <td>...</td>\n",
       "      <td>0</td>\n",
       "      <td>0</td>\n",
       "      <td>0</td>\n",
       "      <td>0</td>\n",
       "      <td>1</td>\n",
       "      <td>0</td>\n",
       "      <td>0</td>\n",
       "      <td>0</td>\n",
       "      <td>1</td>\n",
       "      <td>0</td>\n",
       "    </tr>\n",
       "    <tr>\n",
       "      <th>1</th>\n",
       "      <td>0.672619</td>\n",
       "      <td>0.02</td>\n",
       "      <td>0.375000</td>\n",
       "      <td>27003</td>\n",
       "      <td>1</td>\n",
       "      <td>A</td>\n",
       "      <td>M1</td>\n",
       "      <td>CNG</td>\n",
       "      <td>60Nm@3500rpm</td>\n",
       "      <td>40.36bhp@6000rpm</td>\n",
       "      <td>...</td>\n",
       "      <td>0</td>\n",
       "      <td>0</td>\n",
       "      <td>0</td>\n",
       "      <td>0</td>\n",
       "      <td>1</td>\n",
       "      <td>0</td>\n",
       "      <td>0</td>\n",
       "      <td>0</td>\n",
       "      <td>1</td>\n",
       "      <td>0</td>\n",
       "    </tr>\n",
       "    <tr>\n",
       "      <th>2</th>\n",
       "      <td>0.841110</td>\n",
       "      <td>0.02</td>\n",
       "      <td>0.384615</td>\n",
       "      <td>4076</td>\n",
       "      <td>1</td>\n",
       "      <td>A</td>\n",
       "      <td>M1</td>\n",
       "      <td>CNG</td>\n",
       "      <td>60Nm@3500rpm</td>\n",
       "      <td>40.36bhp@6000rpm</td>\n",
       "      <td>...</td>\n",
       "      <td>0</td>\n",
       "      <td>0</td>\n",
       "      <td>0</td>\n",
       "      <td>0</td>\n",
       "      <td>1</td>\n",
       "      <td>0</td>\n",
       "      <td>0</td>\n",
       "      <td>0</td>\n",
       "      <td>1</td>\n",
       "      <td>0</td>\n",
       "    </tr>\n",
       "    <tr>\n",
       "      <th>3</th>\n",
       "      <td>0.900277</td>\n",
       "      <td>0.11</td>\n",
       "      <td>0.432692</td>\n",
       "      <td>21622</td>\n",
       "      <td>1</td>\n",
       "      <td>C1</td>\n",
       "      <td>M2</td>\n",
       "      <td>Petrol</td>\n",
       "      <td>113Nm@4400rpm</td>\n",
       "      <td>88.50bhp@6000rpm</td>\n",
       "      <td>...</td>\n",
       "      <td>1</td>\n",
       "      <td>1</td>\n",
       "      <td>1</td>\n",
       "      <td>1</td>\n",
       "      <td>1</td>\n",
       "      <td>1</td>\n",
       "      <td>1</td>\n",
       "      <td>1</td>\n",
       "      <td>1</td>\n",
       "      <td>2</td>\n",
       "    </tr>\n",
       "    <tr>\n",
       "      <th>4</th>\n",
       "      <td>0.596403</td>\n",
       "      <td>0.11</td>\n",
       "      <td>0.634615</td>\n",
       "      <td>34738</td>\n",
       "      <td>2</td>\n",
       "      <td>A</td>\n",
       "      <td>M3</td>\n",
       "      <td>Petrol</td>\n",
       "      <td>91Nm@4250rpm</td>\n",
       "      <td>67.06bhp@5500rpm</td>\n",
       "      <td>...</td>\n",
       "      <td>0</td>\n",
       "      <td>0</td>\n",
       "      <td>1</td>\n",
       "      <td>1</td>\n",
       "      <td>1</td>\n",
       "      <td>0</td>\n",
       "      <td>1</td>\n",
       "      <td>1</td>\n",
       "      <td>1</td>\n",
       "      <td>2</td>\n",
       "    </tr>\n",
       "  </tbody>\n",
       "</table>\n",
       "<p>5 rows × 33 columns</p>\n",
       "</div>"
      ],
      "text/plain": [
       "   policy_tenure  age_of_car  age_of_policyholder  population_density  make  \\\n",
       "0       0.515874        0.05             0.644231                4990     1   \n",
       "1       0.672619        0.02             0.375000               27003     1   \n",
       "2       0.841110        0.02             0.384615                4076     1   \n",
       "3       0.900277        0.11             0.432692               21622     1   \n",
       "4       0.596403        0.11             0.634615               34738     2   \n",
       "\n",
       "  segment model fuel_type     max_torque         max_power  ...  \\\n",
       "0       A    M1       CNG   60Nm@3500rpm  40.36bhp@6000rpm  ...   \n",
       "1       A    M1       CNG   60Nm@3500rpm  40.36bhp@6000rpm  ...   \n",
       "2       A    M1       CNG   60Nm@3500rpm  40.36bhp@6000rpm  ...   \n",
       "3      C1    M2    Petrol  113Nm@4400rpm  88.50bhp@6000rpm  ...   \n",
       "4       A    M3    Petrol   91Nm@4250rpm  67.06bhp@5500rpm  ...   \n",
       "\n",
       "  is_rear_window_defogger  is_brake_assist  is_power_door_locks  \\\n",
       "0                       0                0                    0   \n",
       "1                       0                0                    0   \n",
       "2                       0                0                    0   \n",
       "3                       1                1                    1   \n",
       "4                       0                0                    1   \n",
       "\n",
       "   is_central_locking  is_power_steering  is_driver_seat_height_adjustable  \\\n",
       "0                   0                  1                                 0   \n",
       "1                   0                  1                                 0   \n",
       "2                   0                  1                                 0   \n",
       "3                   1                  1                                 1   \n",
       "4                   1                  1                                 0   \n",
       "\n",
       "   is_day_night_rear_view_mirror is_ecw  is_speed_alert ncap_rating  \n",
       "0                              0      0               1           0  \n",
       "1                              0      0               1           0  \n",
       "2                              0      0               1           0  \n",
       "3                              1      1               1           2  \n",
       "4                              1      1               1           2  \n",
       "\n",
       "[5 rows x 33 columns]"
      ]
     },
     "execution_count": 21,
     "metadata": {},
     "output_type": "execute_result"
    }
   ],
   "source": [
    "X=X.copy()\n",
    "X.head()"
   ]
  },
  {
   "cell_type": "code",
   "execution_count": 22,
   "metadata": {
    "scrolled": false
   },
   "outputs": [
    {
     "data": {
      "text/plain": [
       "policy_tenure                       58591\n",
       "age_of_car                             49\n",
       "age_of_policyholder                    75\n",
       "population_density                     22\n",
       "make                                    5\n",
       "segment                                 6\n",
       "model                                  11\n",
       "fuel_type                               3\n",
       "max_torque                              9\n",
       "max_power                               9\n",
       "engine_type                            11\n",
       "airbags                                 3\n",
       "is_esc                                  2\n",
       "is_adjustable_steering                  2\n",
       "is_tpms                                 2\n",
       "is_parking_sensors                      2\n",
       "is_parking_camera                       2\n",
       "rear_brakes_type                        2\n",
       "cylinder                                2\n",
       "transmission_type                       2\n",
       "gear_box                                2\n",
       "steering_type                           3\n",
       "is_rear_window_washer                   2\n",
       "is_rear_window_defogger                 2\n",
       "is_brake_assist                         2\n",
       "is_power_door_locks                     2\n",
       "is_central_locking                      2\n",
       "is_power_steering                       2\n",
       "is_driver_seat_height_adjustable        2\n",
       "is_day_night_rear_view_mirror           2\n",
       "is_ecw                                  2\n",
       "is_speed_alert                          2\n",
       "ncap_rating                             5\n",
       "dtype: int64"
      ]
     },
     "execution_count": 22,
     "metadata": {},
     "output_type": "execute_result"
    }
   ],
   "source": [
    "X.nunique()"
   ]
  },
  {
   "cell_type": "markdown",
   "metadata": {},
   "source": [
    "### As shown above,all the columns starting with \"is_\" and with 2 unique values are already taken care of in data preprocessing phase above.\n",
    "\n",
    "### Now,we have to find remainig columns with object data type and group them to create new feature."
   ]
  },
  {
   "cell_type": "code",
   "execution_count": 23,
   "metadata": {},
   "outputs": [
    {
     "data": {
      "text/plain": [
       "['segment',\n",
       " 'model',\n",
       " 'fuel_type',\n",
       " 'max_torque',\n",
       " 'max_power',\n",
       " 'engine_type',\n",
       " 'rear_brakes_type',\n",
       " 'transmission_type',\n",
       " 'steering_type']"
      ]
     },
     "execution_count": 23,
     "metadata": {},
     "output_type": "execute_result"
    }
   ],
   "source": [
    "# Get list of all the columns with object datatype\n",
    "column_list = list(X.select_dtypes(include=['O']).columns)\n",
    "column_list"
   ]
  },
  {
   "cell_type": "markdown",
   "metadata": {},
   "source": [
    "### Following are the two steps of grouping different features to create a new feature.\n",
    "\n",
    "### ['model','segment','make'] --> ['featured_car_details']\n",
    "\n",
    "### ['max_torque','max_power','engine_type'] --> ['featured_power_range']"
   ]
  },
  {
   "cell_type": "code",
   "execution_count": 24,
   "metadata": {
    "colab": {
     "base_uri": "https://localhost:8080/",
     "height": 475
    },
    "id": "xO79txxFY8Qy",
    "outputId": "2d4c6524-64e7-488c-e81e-57386b1e50e3"
   },
   "outputs": [
    {
     "data": {
      "text/plain": [
       "<AxesSubplot: title={'center': 'Elbow Plot'}, xlabel='Number of clusters', ylabel='Sum of Squared Errors'>"
      ]
     },
     "execution_count": 24,
     "metadata": {},
     "output_type": "execute_result"
    },
    {
     "data": {
      "image/png": "[encoded data removed]",
      "text/plain": [
       "<Figure size 640x480 with 2 Axes>"
      ]
     },
     "metadata": {},
     "output_type": "display_data"
    }
   ],
   "source": [
    "features=['model','segment','make']\n",
    "for feature in features:\n",
    "    X[feature] = le.fit_transform(X[feature])\n",
    "km=KMeans(random_state=0)\n",
    "km.fit(X[features])\n",
    "\n",
    "skplt.cluster.plot_elbow_curve(km,X[features], cluster_ranges=range(1, 10))\n"
   ]
  },
  {
   "cell_type": "code",
   "execution_count": 25,
   "metadata": {
    "colab": {
     "base_uri": "https://localhost:8080/",
     "height": 369
    },
    "id": "tneVl2WwcBSS",
    "outputId": "4abf36fd-a374-4ba0-fb1b-c6a463966de2"
   },
   "outputs": [
    {
     "data": {
      "text/html": [
       "<div>\n",
       "<style scoped>\n",
       "    .dataframe tbody tr th:only-of-type {\n",
       "        vertical-align: middle;\n",
       "    }\n",
       "\n",
       "    .dataframe tbody tr th {\n",
       "        vertical-align: top;\n",
       "    }\n",
       "\n",
       "    .dataframe thead th {\n",
       "        text-align: right;\n",
       "    }\n",
       "</style>\n",
       "<table border=\"1\" class=\"dataframe\">\n",
       "  <thead>\n",
       "    <tr style=\"text-align: right;\">\n",
       "      <th></th>\n",
       "      <th>policy_tenure</th>\n",
       "      <th>age_of_car</th>\n",
       "      <th>age_of_policyholder</th>\n",
       "      <th>population_density</th>\n",
       "      <th>fuel_type</th>\n",
       "      <th>max_torque</th>\n",
       "      <th>max_power</th>\n",
       "      <th>engine_type</th>\n",
       "      <th>airbags</th>\n",
       "      <th>is_esc</th>\n",
       "      <th>...</th>\n",
       "      <th>is_brake_assist</th>\n",
       "      <th>is_power_door_locks</th>\n",
       "      <th>is_central_locking</th>\n",
       "      <th>is_power_steering</th>\n",
       "      <th>is_driver_seat_height_adjustable</th>\n",
       "      <th>is_day_night_rear_view_mirror</th>\n",
       "      <th>is_ecw</th>\n",
       "      <th>is_speed_alert</th>\n",
       "      <th>ncap_rating</th>\n",
       "      <th>featured_car_details</th>\n",
       "    </tr>\n",
       "  </thead>\n",
       "  <tbody>\n",
       "    <tr>\n",
       "      <th>0</th>\n",
       "      <td>0.515874</td>\n",
       "      <td>0.05</td>\n",
       "      <td>0.644231</td>\n",
       "      <td>4990</td>\n",
       "      <td>CNG</td>\n",
       "      <td>60Nm@3500rpm</td>\n",
       "      <td>40.36bhp@6000rpm</td>\n",
       "      <td>F8D Petrol Engine</td>\n",
       "      <td>2</td>\n",
       "      <td>0</td>\n",
       "      <td>...</td>\n",
       "      <td>0</td>\n",
       "      <td>0</td>\n",
       "      <td>0</td>\n",
       "      <td>1</td>\n",
       "      <td>0</td>\n",
       "      <td>0</td>\n",
       "      <td>0</td>\n",
       "      <td>1</td>\n",
       "      <td>0</td>\n",
       "      <td>1</td>\n",
       "    </tr>\n",
       "    <tr>\n",
       "      <th>1</th>\n",
       "      <td>0.672619</td>\n",
       "      <td>0.02</td>\n",
       "      <td>0.375000</td>\n",
       "      <td>27003</td>\n",
       "      <td>CNG</td>\n",
       "      <td>60Nm@3500rpm</td>\n",
       "      <td>40.36bhp@6000rpm</td>\n",
       "      <td>F8D Petrol Engine</td>\n",
       "      <td>2</td>\n",
       "      <td>0</td>\n",
       "      <td>...</td>\n",
       "      <td>0</td>\n",
       "      <td>0</td>\n",
       "      <td>0</td>\n",
       "      <td>1</td>\n",
       "      <td>0</td>\n",
       "      <td>0</td>\n",
       "      <td>0</td>\n",
       "      <td>1</td>\n",
       "      <td>0</td>\n",
       "      <td>1</td>\n",
       "    </tr>\n",
       "    <tr>\n",
       "      <th>2</th>\n",
       "      <td>0.841110</td>\n",
       "      <td>0.02</td>\n",
       "      <td>0.384615</td>\n",
       "      <td>4076</td>\n",
       "      <td>CNG</td>\n",
       "      <td>60Nm@3500rpm</td>\n",
       "      <td>40.36bhp@6000rpm</td>\n",
       "      <td>F8D Petrol Engine</td>\n",
       "      <td>2</td>\n",
       "      <td>0</td>\n",
       "      <td>...</td>\n",
       "      <td>0</td>\n",
       "      <td>0</td>\n",
       "      <td>0</td>\n",
       "      <td>1</td>\n",
       "      <td>0</td>\n",
       "      <td>0</td>\n",
       "      <td>0</td>\n",
       "      <td>1</td>\n",
       "      <td>0</td>\n",
       "      <td>1</td>\n",
       "    </tr>\n",
       "    <tr>\n",
       "      <th>3</th>\n",
       "      <td>0.900277</td>\n",
       "      <td>0.11</td>\n",
       "      <td>0.432692</td>\n",
       "      <td>21622</td>\n",
       "      <td>Petrol</td>\n",
       "      <td>113Nm@4400rpm</td>\n",
       "      <td>88.50bhp@6000rpm</td>\n",
       "      <td>1.2 L K12N Dualjet</td>\n",
       "      <td>2</td>\n",
       "      <td>1</td>\n",
       "      <td>...</td>\n",
       "      <td>1</td>\n",
       "      <td>1</td>\n",
       "      <td>1</td>\n",
       "      <td>1</td>\n",
       "      <td>1</td>\n",
       "      <td>1</td>\n",
       "      <td>1</td>\n",
       "      <td>1</td>\n",
       "      <td>2</td>\n",
       "      <td>0</td>\n",
       "    </tr>\n",
       "    <tr>\n",
       "      <th>4</th>\n",
       "      <td>0.596403</td>\n",
       "      <td>0.11</td>\n",
       "      <td>0.634615</td>\n",
       "      <td>34738</td>\n",
       "      <td>Petrol</td>\n",
       "      <td>91Nm@4250rpm</td>\n",
       "      <td>67.06bhp@5500rpm</td>\n",
       "      <td>1.0 SCe</td>\n",
       "      <td>2</td>\n",
       "      <td>0</td>\n",
       "      <td>...</td>\n",
       "      <td>0</td>\n",
       "      <td>1</td>\n",
       "      <td>1</td>\n",
       "      <td>1</td>\n",
       "      <td>0</td>\n",
       "      <td>1</td>\n",
       "      <td>1</td>\n",
       "      <td>1</td>\n",
       "      <td>2</td>\n",
       "      <td>1</td>\n",
       "    </tr>\n",
       "  </tbody>\n",
       "</table>\n",
       "<p>5 rows × 31 columns</p>\n",
       "</div>"
      ],
      "text/plain": [
       "   policy_tenure  age_of_car  age_of_policyholder  population_density  \\\n",
       "0       0.515874        0.05             0.644231                4990   \n",
       "1       0.672619        0.02             0.375000               27003   \n",
       "2       0.841110        0.02             0.384615                4076   \n",
       "3       0.900277        0.11             0.432692               21622   \n",
       "4       0.596403        0.11             0.634615               34738   \n",
       "\n",
       "  fuel_type     max_torque         max_power         engine_type  airbags  \\\n",
       "0       CNG   60Nm@3500rpm  40.36bhp@6000rpm   F8D Petrol Engine        2   \n",
       "1       CNG   60Nm@3500rpm  40.36bhp@6000rpm   F8D Petrol Engine        2   \n",
       "2       CNG   60Nm@3500rpm  40.36bhp@6000rpm   F8D Petrol Engine        2   \n",
       "3    Petrol  113Nm@4400rpm  88.50bhp@6000rpm  1.2 L K12N Dualjet        2   \n",
       "4    Petrol   91Nm@4250rpm  67.06bhp@5500rpm             1.0 SCe        2   \n",
       "\n",
       "   is_esc  ...  is_brake_assist  is_power_door_locks  is_central_locking  \\\n",
       "0       0  ...                0                    0                   0   \n",
       "1       0  ...                0                    0                   0   \n",
       "2       0  ...                0                    0                   0   \n",
       "3       1  ...                1                    1                   1   \n",
       "4       0  ...                0                    1                   1   \n",
       "\n",
       "   is_power_steering is_driver_seat_height_adjustable  \\\n",
       "0                  1                                0   \n",
       "1                  1                                0   \n",
       "2                  1                                0   \n",
       "3                  1                                1   \n",
       "4                  1                                0   \n",
       "\n",
       "   is_day_night_rear_view_mirror is_ecw  is_speed_alert ncap_rating  \\\n",
       "0                              0      0               1           0   \n",
       "1                              0      0               1           0   \n",
       "2                              0      0               1           0   \n",
       "3                              1      1               1           2   \n",
       "4                              1      1               1           2   \n",
       "\n",
       "   featured_car_details  \n",
       "0                     1  \n",
       "1                     1  \n",
       "2                     1  \n",
       "3                     0  \n",
       "4                     1  \n",
       "\n",
       "[5 rows x 31 columns]"
      ]
     },
     "execution_count": 25,
     "metadata": {},
     "output_type": "execute_result"
    }
   ],
   "source": [
    "kmeans = KMeans(n_clusters=4)\n",
    "kmeans.fit(X[features])\n",
    "X['featured_car_details'] = kmeans.predict(X[features])\n",
    "X.drop(features,axis=1,inplace=True)\n",
    "X.head()"
   ]
  },
  {
   "cell_type": "markdown",
   "metadata": {
    "id": "Orc1pV9wdHj-"
   },
   "source": [
    "### We are performing same steps of clustering as above.Here we are clustering car engine features like torque,power and engine type."
   ]
  },
  {
   "cell_type": "code",
   "execution_count": 26,
   "metadata": {
    "colab": {
     "base_uri": "https://localhost:8080/",
     "height": 475
    },
    "id": "82HFvLZNdVqx",
    "outputId": "6883fa04-2d11-48bc-8ca7-4baca677a2fe"
   },
   "outputs": [
    {
     "data": {
      "text/plain": [
       "<AxesSubplot: title={'center': 'Elbow Plot'}, xlabel='Number of clusters', ylabel='Sum of Squared Errors'>"
      ]
     },
     "execution_count": 26,
     "metadata": {},
     "output_type": "execute_result"
    },
    {
     "data": {
      "image/png": "[encoded data removed]",
      "text/plain": [
       "<Figure size 640x480 with 2 Axes>"
      ]
     },
     "metadata": {},
     "output_type": "display_data"
    }
   ],
   "source": [
    "features=['max_torque','max_power','engine_type']\n",
    "for feature in features:\n",
    "    X[feature] = le.fit_transform(X[feature])\n",
    "km=KMeans(random_state=0)\n",
    "km.fit(X[features])\n",
    "\n",
    "skplt.cluster.plot_elbow_curve(km,X[features], cluster_ranges=range(1, 10))"
   ]
  },
  {
   "cell_type": "code",
   "execution_count": 27,
   "metadata": {
    "colab": {
     "base_uri": "https://localhost:8080/",
     "height": 300
    },
    "id": "7F0wdMMUdkZ1",
    "outputId": "dd1433a2-5c98-41dd-d77c-60142210f9ae"
   },
   "outputs": [
    {
     "data": {
      "text/html": [
       "<div>\n",
       "<style scoped>\n",
       "    .dataframe tbody tr th:only-of-type {\n",
       "        vertical-align: middle;\n",
       "    }\n",
       "\n",
       "    .dataframe tbody tr th {\n",
       "        vertical-align: top;\n",
       "    }\n",
       "\n",
       "    .dataframe thead th {\n",
       "        text-align: right;\n",
       "    }\n",
       "</style>\n",
       "<table border=\"1\" class=\"dataframe\">\n",
       "  <thead>\n",
       "    <tr style=\"text-align: right;\">\n",
       "      <th></th>\n",
       "      <th>policy_tenure</th>\n",
       "      <th>age_of_car</th>\n",
       "      <th>age_of_policyholder</th>\n",
       "      <th>population_density</th>\n",
       "      <th>fuel_type</th>\n",
       "      <th>airbags</th>\n",
       "      <th>is_esc</th>\n",
       "      <th>is_adjustable_steering</th>\n",
       "      <th>is_tpms</th>\n",
       "      <th>is_parking_sensors</th>\n",
       "      <th>...</th>\n",
       "      <th>is_power_door_locks</th>\n",
       "      <th>is_central_locking</th>\n",
       "      <th>is_power_steering</th>\n",
       "      <th>is_driver_seat_height_adjustable</th>\n",
       "      <th>is_day_night_rear_view_mirror</th>\n",
       "      <th>is_ecw</th>\n",
       "      <th>is_speed_alert</th>\n",
       "      <th>ncap_rating</th>\n",
       "      <th>featured_car_details</th>\n",
       "      <th>featured_power_range</th>\n",
       "    </tr>\n",
       "  </thead>\n",
       "  <tbody>\n",
       "    <tr>\n",
       "      <th>0</th>\n",
       "      <td>0.515874</td>\n",
       "      <td>0.05</td>\n",
       "      <td>0.644231</td>\n",
       "      <td>4990</td>\n",
       "      <td>CNG</td>\n",
       "      <td>2</td>\n",
       "      <td>0</td>\n",
       "      <td>0</td>\n",
       "      <td>0</td>\n",
       "      <td>1</td>\n",
       "      <td>...</td>\n",
       "      <td>0</td>\n",
       "      <td>0</td>\n",
       "      <td>1</td>\n",
       "      <td>0</td>\n",
       "      <td>0</td>\n",
       "      <td>0</td>\n",
       "      <td>1</td>\n",
       "      <td>0</td>\n",
       "      <td>1</td>\n",
       "      <td>2</td>\n",
       "    </tr>\n",
       "    <tr>\n",
       "      <th>1</th>\n",
       "      <td>0.672619</td>\n",
       "      <td>0.02</td>\n",
       "      <td>0.375000</td>\n",
       "      <td>27003</td>\n",
       "      <td>CNG</td>\n",
       "      <td>2</td>\n",
       "      <td>0</td>\n",
       "      <td>0</td>\n",
       "      <td>0</td>\n",
       "      <td>1</td>\n",
       "      <td>...</td>\n",
       "      <td>0</td>\n",
       "      <td>0</td>\n",
       "      <td>1</td>\n",
       "      <td>0</td>\n",
       "      <td>0</td>\n",
       "      <td>0</td>\n",
       "      <td>1</td>\n",
       "      <td>0</td>\n",
       "      <td>1</td>\n",
       "      <td>2</td>\n",
       "    </tr>\n",
       "    <tr>\n",
       "      <th>2</th>\n",
       "      <td>0.841110</td>\n",
       "      <td>0.02</td>\n",
       "      <td>0.384615</td>\n",
       "      <td>4076</td>\n",
       "      <td>CNG</td>\n",
       "      <td>2</td>\n",
       "      <td>0</td>\n",
       "      <td>0</td>\n",
       "      <td>0</td>\n",
       "      <td>1</td>\n",
       "      <td>...</td>\n",
       "      <td>0</td>\n",
       "      <td>0</td>\n",
       "      <td>1</td>\n",
       "      <td>0</td>\n",
       "      <td>0</td>\n",
       "      <td>0</td>\n",
       "      <td>1</td>\n",
       "      <td>0</td>\n",
       "      <td>1</td>\n",
       "      <td>2</td>\n",
       "    </tr>\n",
       "    <tr>\n",
       "      <th>3</th>\n",
       "      <td>0.900277</td>\n",
       "      <td>0.11</td>\n",
       "      <td>0.432692</td>\n",
       "      <td>21622</td>\n",
       "      <td>Petrol</td>\n",
       "      <td>2</td>\n",
       "      <td>1</td>\n",
       "      <td>1</td>\n",
       "      <td>0</td>\n",
       "      <td>1</td>\n",
       "      <td>...</td>\n",
       "      <td>1</td>\n",
       "      <td>1</td>\n",
       "      <td>1</td>\n",
       "      <td>1</td>\n",
       "      <td>1</td>\n",
       "      <td>1</td>\n",
       "      <td>1</td>\n",
       "      <td>2</td>\n",
       "      <td>0</td>\n",
       "      <td>3</td>\n",
       "    </tr>\n",
       "    <tr>\n",
       "      <th>4</th>\n",
       "      <td>0.596403</td>\n",
       "      <td>0.11</td>\n",
       "      <td>0.634615</td>\n",
       "      <td>34738</td>\n",
       "      <td>Petrol</td>\n",
       "      <td>2</td>\n",
       "      <td>0</td>\n",
       "      <td>0</td>\n",
       "      <td>0</td>\n",
       "      <td>0</td>\n",
       "      <td>...</td>\n",
       "      <td>1</td>\n",
       "      <td>1</td>\n",
       "      <td>1</td>\n",
       "      <td>0</td>\n",
       "      <td>1</td>\n",
       "      <td>1</td>\n",
       "      <td>1</td>\n",
       "      <td>2</td>\n",
       "      <td>1</td>\n",
       "      <td>3</td>\n",
       "    </tr>\n",
       "  </tbody>\n",
       "</table>\n",
       "<p>5 rows × 29 columns</p>\n",
       "</div>"
      ],
      "text/plain": [
       "   policy_tenure  age_of_car  age_of_policyholder  population_density  \\\n",
       "0       0.515874        0.05             0.644231                4990   \n",
       "1       0.672619        0.02             0.375000               27003   \n",
       "2       0.841110        0.02             0.384615                4076   \n",
       "3       0.900277        0.11             0.432692               21622   \n",
       "4       0.596403        0.11             0.634615               34738   \n",
       "\n",
       "  fuel_type  airbags  is_esc  is_adjustable_steering  is_tpms  \\\n",
       "0       CNG        2       0                       0        0   \n",
       "1       CNG        2       0                       0        0   \n",
       "2       CNG        2       0                       0        0   \n",
       "3    Petrol        2       1                       1        0   \n",
       "4    Petrol        2       0                       0        0   \n",
       "\n",
       "   is_parking_sensors  ...  is_power_door_locks is_central_locking  \\\n",
       "0                   1  ...                    0                  0   \n",
       "1                   1  ...                    0                  0   \n",
       "2                   1  ...                    0                  0   \n",
       "3                   1  ...                    1                  1   \n",
       "4                   0  ...                    1                  1   \n",
       "\n",
       "   is_power_steering is_driver_seat_height_adjustable  \\\n",
       "0                  1                                0   \n",
       "1                  1                                0   \n",
       "2                  1                                0   \n",
       "3                  1                                1   \n",
       "4                  1                                0   \n",
       "\n",
       "   is_day_night_rear_view_mirror is_ecw  is_speed_alert  ncap_rating  \\\n",
       "0                              0      0               1            0   \n",
       "1                              0      0               1            0   \n",
       "2                              0      0               1            0   \n",
       "3                              1      1               1            2   \n",
       "4                              1      1               1            2   \n",
       "\n",
       "   featured_car_details  featured_power_range  \n",
       "0                     1                     2  \n",
       "1                     1                     2  \n",
       "2                     1                     2  \n",
       "3                     0                     3  \n",
       "4                     1                     3  \n",
       "\n",
       "[5 rows x 29 columns]"
      ]
     },
     "execution_count": 27,
     "metadata": {},
     "output_type": "execute_result"
    }
   ],
   "source": [
    "kmeans = KMeans(n_clusters=4)\n",
    "kmeans.fit(X[features])\n",
    "X['featured_power_range'] = kmeans.predict(X[features])\n",
    "X['featured_power_range']\n",
    "X.drop(features,axis=1,inplace=True)\n",
    "X.head()"
   ]
  },
  {
   "cell_type": "code",
   "execution_count": 28,
   "metadata": {
    "colab": {
     "base_uri": "https://localhost:8080/"
    },
    "id": "ouZ7yJuYRiCS",
    "outputId": "768cd106-eb81-4897-b30a-500bab78b641",
    "scrolled": true
   },
   "outputs": [
    {
     "name": "stdout",
     "output_type": "stream",
     "text": [
      "['fuel_type', 'rear_brakes_type', 'transmission_type', 'steering_type']\n"
     ]
    }
   ],
   "source": [
    "ohe_cols=list(X.select_dtypes(include=['O']).columns)\n",
    "print(ohe_cols)"
   ]
  },
  {
   "cell_type": "markdown",
   "metadata": {},
   "source": [
    "### ohe_cols is the list of remaining categorical columns which we are encoding using One-hot encoding method as per our encoding strategy."
   ]
  },
  {
   "cell_type": "code",
   "execution_count": 29,
   "metadata": {
    "colab": {
     "base_uri": "https://localhost:8080/",
     "height": 300
    },
    "id": "vWh1TiakRl4_",
    "outputId": "110979ed-d752-49b5-88dd-0fa4f6880017"
   },
   "outputs": [
    {
     "data": {
      "text/html": [
       "<div>\n",
       "<style scoped>\n",
       "    .dataframe tbody tr th:only-of-type {\n",
       "        vertical-align: middle;\n",
       "    }\n",
       "\n",
       "    .dataframe tbody tr th {\n",
       "        vertical-align: top;\n",
       "    }\n",
       "\n",
       "    .dataframe thead th {\n",
       "        text-align: right;\n",
       "    }\n",
       "</style>\n",
       "<table border=\"1\" class=\"dataframe\">\n",
       "  <thead>\n",
       "    <tr style=\"text-align: right;\">\n",
       "      <th></th>\n",
       "      <th>policy_tenure</th>\n",
       "      <th>age_of_car</th>\n",
       "      <th>age_of_policyholder</th>\n",
       "      <th>population_density</th>\n",
       "      <th>airbags</th>\n",
       "      <th>is_esc</th>\n",
       "      <th>is_adjustable_steering</th>\n",
       "      <th>is_tpms</th>\n",
       "      <th>is_parking_sensors</th>\n",
       "      <th>is_parking_camera</th>\n",
       "      <th>...</th>\n",
       "      <th>fuel_type_CNG</th>\n",
       "      <th>fuel_type_Diesel</th>\n",
       "      <th>fuel_type_Petrol</th>\n",
       "      <th>rear_brakes_type_Disc</th>\n",
       "      <th>rear_brakes_type_Drum</th>\n",
       "      <th>transmission_type_Automatic</th>\n",
       "      <th>transmission_type_Manual</th>\n",
       "      <th>steering_type_Electric</th>\n",
       "      <th>steering_type_Manual</th>\n",
       "      <th>steering_type_Power</th>\n",
       "    </tr>\n",
       "  </thead>\n",
       "  <tbody>\n",
       "    <tr>\n",
       "      <th>0</th>\n",
       "      <td>0.515874</td>\n",
       "      <td>0.05</td>\n",
       "      <td>0.644231</td>\n",
       "      <td>4990</td>\n",
       "      <td>2</td>\n",
       "      <td>0</td>\n",
       "      <td>0</td>\n",
       "      <td>0</td>\n",
       "      <td>1</td>\n",
       "      <td>0</td>\n",
       "      <td>...</td>\n",
       "      <td>1</td>\n",
       "      <td>0</td>\n",
       "      <td>0</td>\n",
       "      <td>0</td>\n",
       "      <td>1</td>\n",
       "      <td>0</td>\n",
       "      <td>1</td>\n",
       "      <td>0</td>\n",
       "      <td>0</td>\n",
       "      <td>1</td>\n",
       "    </tr>\n",
       "    <tr>\n",
       "      <th>1</th>\n",
       "      <td>0.672619</td>\n",
       "      <td>0.02</td>\n",
       "      <td>0.375000</td>\n",
       "      <td>27003</td>\n",
       "      <td>2</td>\n",
       "      <td>0</td>\n",
       "      <td>0</td>\n",
       "      <td>0</td>\n",
       "      <td>1</td>\n",
       "      <td>0</td>\n",
       "      <td>...</td>\n",
       "      <td>1</td>\n",
       "      <td>0</td>\n",
       "      <td>0</td>\n",
       "      <td>0</td>\n",
       "      <td>1</td>\n",
       "      <td>0</td>\n",
       "      <td>1</td>\n",
       "      <td>0</td>\n",
       "      <td>0</td>\n",
       "      <td>1</td>\n",
       "    </tr>\n",
       "    <tr>\n",
       "      <th>2</th>\n",
       "      <td>0.841110</td>\n",
       "      <td>0.02</td>\n",
       "      <td>0.384615</td>\n",
       "      <td>4076</td>\n",
       "      <td>2</td>\n",
       "      <td>0</td>\n",
       "      <td>0</td>\n",
       "      <td>0</td>\n",
       "      <td>1</td>\n",
       "      <td>0</td>\n",
       "      <td>...</td>\n",
       "      <td>1</td>\n",
       "      <td>0</td>\n",
       "      <td>0</td>\n",
       "      <td>0</td>\n",
       "      <td>1</td>\n",
       "      <td>0</td>\n",
       "      <td>1</td>\n",
       "      <td>0</td>\n",
       "      <td>0</td>\n",
       "      <td>1</td>\n",
       "    </tr>\n",
       "    <tr>\n",
       "      <th>3</th>\n",
       "      <td>0.900277</td>\n",
       "      <td>0.11</td>\n",
       "      <td>0.432692</td>\n",
       "      <td>21622</td>\n",
       "      <td>2</td>\n",
       "      <td>1</td>\n",
       "      <td>1</td>\n",
       "      <td>0</td>\n",
       "      <td>1</td>\n",
       "      <td>1</td>\n",
       "      <td>...</td>\n",
       "      <td>0</td>\n",
       "      <td>0</td>\n",
       "      <td>1</td>\n",
       "      <td>0</td>\n",
       "      <td>1</td>\n",
       "      <td>1</td>\n",
       "      <td>0</td>\n",
       "      <td>1</td>\n",
       "      <td>0</td>\n",
       "      <td>0</td>\n",
       "    </tr>\n",
       "    <tr>\n",
       "      <th>4</th>\n",
       "      <td>0.596403</td>\n",
       "      <td>0.11</td>\n",
       "      <td>0.634615</td>\n",
       "      <td>34738</td>\n",
       "      <td>2</td>\n",
       "      <td>0</td>\n",
       "      <td>0</td>\n",
       "      <td>0</td>\n",
       "      <td>0</td>\n",
       "      <td>1</td>\n",
       "      <td>...</td>\n",
       "      <td>0</td>\n",
       "      <td>0</td>\n",
       "      <td>1</td>\n",
       "      <td>0</td>\n",
       "      <td>1</td>\n",
       "      <td>1</td>\n",
       "      <td>0</td>\n",
       "      <td>1</td>\n",
       "      <td>0</td>\n",
       "      <td>0</td>\n",
       "    </tr>\n",
       "  </tbody>\n",
       "</table>\n",
       "<p>5 rows × 35 columns</p>\n",
       "</div>"
      ],
      "text/plain": [
       "   policy_tenure  age_of_car  age_of_policyholder  population_density  \\\n",
       "0       0.515874        0.05             0.644231                4990   \n",
       "1       0.672619        0.02             0.375000               27003   \n",
       "2       0.841110        0.02             0.384615                4076   \n",
       "3       0.900277        0.11             0.432692               21622   \n",
       "4       0.596403        0.11             0.634615               34738   \n",
       "\n",
       "   airbags  is_esc  is_adjustable_steering  is_tpms  is_parking_sensors  \\\n",
       "0        2       0                       0        0                   1   \n",
       "1        2       0                       0        0                   1   \n",
       "2        2       0                       0        0                   1   \n",
       "3        2       1                       1        0                   1   \n",
       "4        2       0                       0        0                   0   \n",
       "\n",
       "   is_parking_camera  ...  fuel_type_CNG  fuel_type_Diesel  fuel_type_Petrol  \\\n",
       "0                  0  ...              1                 0                 0   \n",
       "1                  0  ...              1                 0                 0   \n",
       "2                  0  ...              1                 0                 0   \n",
       "3                  1  ...              0                 0                 1   \n",
       "4                  1  ...              0                 0                 1   \n",
       "\n",
       "   rear_brakes_type_Disc  rear_brakes_type_Drum  transmission_type_Automatic  \\\n",
       "0                      0                      1                            0   \n",
       "1                      0                      1                            0   \n",
       "2                      0                      1                            0   \n",
       "3                      0                      1                            1   \n",
       "4                      0                      1                            1   \n",
       "\n",
       "   transmission_type_Manual  steering_type_Electric  steering_type_Manual  \\\n",
       "0                         1                       0                     0   \n",
       "1                         1                       0                     0   \n",
       "2                         1                       0                     0   \n",
       "3                         0                       1                     0   \n",
       "4                         0                       1                     0   \n",
       "\n",
       "   steering_type_Power  \n",
       "0                    1  \n",
       "1                    1  \n",
       "2                    1  \n",
       "3                    0  \n",
       "4                    0  \n",
       "\n",
       "[5 rows x 35 columns]"
      ]
     },
     "execution_count": 29,
     "metadata": {},
     "output_type": "execute_result"
    }
   ],
   "source": [
    "# Create a dataframe of One hot encodng features\n",
    "ohe_df=pd.get_dummies(X[ohe_cols])\n",
    "\n",
    "# Merge df with X\n",
    "X=pd.concat([X, ohe_df], axis=1)\n",
    "\n",
    "# Drop the original columns\n",
    "X=X.drop(columns=ohe_cols)\n",
    "X.head()"
   ]
  },
  {
   "cell_type": "code",
   "execution_count": 30,
   "metadata": {
    "colab": {
     "base_uri": "https://localhost:8080/"
    },
    "id": "-KcyEGCoRrvf",
    "outputId": "5358576b-282e-47ed-e232-fcd230e1710c"
   },
   "outputs": [
    {
     "name": "stdout",
     "output_type": "stream",
     "text": [
      "Number of Rows:  58592\n",
      "Number of Columns:  35\n"
     ]
    }
   ],
   "source": [
    "# computing number of rows\n",
    "rows = len(X.axes[0])\n",
    "# computing number of columns\n",
    "cols = len(X.axes[1])\n",
    "print(\"Number of Rows: \", rows)\n",
    "print(\"Number of Columns: \", cols)"
   ]
  },
  {
   "cell_type": "code",
   "execution_count": 31,
   "metadata": {
    "colab": {
     "base_uri": "https://localhost:8080/"
    },
    "id": "hYMhcx1SRxSj",
    "outputId": "8395fc41-26aa-4022-c7d9-bf611f43b240"
   },
   "outputs": [
    {
     "data": {
      "text/plain": [
       "Counter({0: 54844, 1: 3748})"
      ]
     },
     "execution_count": 31,
     "metadata": {},
     "output_type": "execute_result"
    }
   ],
   "source": [
    "Counter(y)"
   ]
  },
  {
   "cell_type": "code",
   "execution_count": 32,
   "metadata": {},
   "outputs": [
    {
     "data": {
      "text/plain": [
       "<AxesSubplot: >"
      ]
     },
     "execution_count": 32,
     "metadata": {},
     "output_type": "execute_result"
    },
    {
     "data": {
      "image/png": "[encoded data removed]",
      "text/plain": [
       "<Figure size 1000x500 with 1 Axes>"
      ]
     },
     "metadata": {},
     "output_type": "display_data"
    }
   ],
   "source": [
    "# Initializing the classifier\n",
    "dtc = DecisionTreeClassifier()\n",
    "# Fit the classifier on X and y data\n",
    "dtc=dtc.fit(X, y)\n",
    "\n",
    "# List the features sorted in descending order by feature importance and kepping only top 10 features.\n",
    "feature_vals=[]\n",
    "feature_names=[]\n",
    "features_rank = sorted(zip(dtc.feature_importances_, X.columns), reverse=True)\n",
    "for feature in features_rank[:10]:\n",
    "    feature_vals.append(feature[0])\n",
    "    feature_names.append(feature[1])\n",
    "\n",
    "feature_df=pd.DataFrame({'name':feature_names,'values':feature_vals},index=feature_names)\n",
    "feature_df.plot.bar(figsize=(10,5),log=True)\n"
   ]
  },
  {
   "cell_type": "code",
   "execution_count": 33,
   "metadata": {},
   "outputs": [],
   "source": [
    "# Resampling the data\n",
    "X_sampled,y_sampled=SMOTEENN().fit_resample(X,y)\n",
    "\n",
    "# Split the data into train and test sets\n",
    "X_train, X_test, y_train, y_test = train_test_split(X_sampled, y_sampled)"
   ]
  },
  {
   "cell_type": "code",
   "execution_count": 34,
   "metadata": {
    "colab": {
     "base_uri": "https://localhost:8080/"
    },
    "id": "zAZ6aUunYuaT",
    "outputId": "a5a2c010-2983-4cc9-a1b8-af4701dc0e21"
   },
   "outputs": [
    {
     "name": "stdout",
     "output_type": "stream",
     "text": [
      "              precision    recall  f1-score   support\n",
      "\n",
      "           0       0.92      0.90      0.91      8338\n",
      "           1       0.92      0.94      0.93     10119\n",
      "\n",
      "    accuracy                           0.92     18457\n",
      "   macro avg       0.92      0.92      0.92     18457\n",
      "weighted avg       0.92      0.92      0.92     18457\n",
      "\n"
     ]
    },
    {
     "data": {
      "text/plain": [
       "<AxesSubplot: title={'center': 'Confusion Matrix'}, xlabel='Predicted label', ylabel='True label'>"
      ]
     },
     "execution_count": 34,
     "metadata": {},
     "output_type": "execute_result"
    },
    {
     "data": {
      "image/png": "[encoded data removed]",
      "text/plain": [
       "<Figure size 1000x500 with 2 Axes>"
      ]
     },
     "metadata": {},
     "output_type": "display_data"
    }
   ],
   "source": [
    "# Fit,train and test the model\n",
    "dtr = TransformedTargetRegressor(regressor=DecisionTreeRegressor(), transformer=QuantileTransformer(output_distribution='normal'))\n",
    "dtr = dtr.fit(X_train, y_train)\n",
    "y_pred = dtr.predict(X_test)\n",
    "\n",
    "# Print classification report\n",
    "print(classification_report(y_test, y_pred))\n",
    "# Plot confusion matrix\n",
    "skplt.metrics.plot_confusion_matrix(y_test, y_pred, normalize=True, title = 'Confusion Matrix',figsize=(10,5))"
   ]
  },
  {
   "cell_type": "markdown",
   "metadata": {},
   "source": [
    "# Phase 4 - Only using top 10 features"
   ]
  },
  {
   "cell_type": "code",
   "execution_count": 35,
   "metadata": {
    "id": "c5s0n5LG6Ctz"
   },
   "outputs": [],
   "source": [
    "# Keeping only top features\n",
    "X=X[feature_names]\n",
    "\n",
    "# Resampling the data\n",
    "X_sampled,y_sampled=SMOTEENN().fit_resample(X,y)\n",
    "\n",
    "# Split the data into train and test sets\n",
    "X_train, X_test, y_train, y_test = train_test_split(X_sampled, y_sampled)\n"
   ]
  },
  {
   "cell_type": "code",
   "execution_count": 36,
   "metadata": {},
   "outputs": [
    {
     "name": "stdout",
     "output_type": "stream",
     "text": [
      "              precision    recall  f1-score   support\n",
      "\n",
      "           0       0.92      0.90      0.91      8218\n",
      "           1       0.92      0.94      0.93     10322\n",
      "\n",
      "    accuracy                           0.92     18540\n",
      "   macro avg       0.92      0.92      0.92     18540\n",
      "weighted avg       0.92      0.92      0.92     18540\n",
      "\n"
     ]
    },
    {
     "data": {
      "text/plain": [
       "<AxesSubplot: title={'center': 'Confusion Matrix'}, xlabel='Predicted label', ylabel='True label'>"
      ]
     },
     "execution_count": 36,
     "metadata": {},
     "output_type": "execute_result"
    },
    {
     "data": {
      "image/png": "[encoded data removed]",
      "text/plain": [
       "<Figure size 1000x500 with 2 Axes>"
      ]
     },
     "metadata": {},
     "output_type": "display_data"
    }
   ],
   "source": [
    "# Fit,train and test the model\n",
    "dtr = TransformedTargetRegressor(regressor=DecisionTreeRegressor(), transformer=QuantileTransformer(output_distribution='normal'))\n",
    "dtr = dtr.fit(X_train, y_train)\n",
    "y_pred = dtr.predict(X_test)\n",
    "\n",
    "# Print classification report\n",
    "print(classification_report(y_test, y_pred))\n",
    "# Plot confusion matrix\n",
    "skplt.metrics.plot_confusion_matrix(y_test, y_pred, normalize=True, title = 'Confusion Matrix',figsize=(10,5))"
   ]
  }
 ],
 "metadata": {
  "colab": {
   "provenance": []
  },
  "kernelspec": {
   "display_name": "mlenv",
   "language": "python",
   "name": "mlenv"
  },
  "language_info": {
   "codemirror_mode": {
    "name": "ipython",
    "version": 3
   },
   "file_extension": ".py",
   "mimetype": "text/x-python",
   "name": "python",
   "nbconvert_exporter": "python",
   "pygments_lexer": "ipython3",
   "version": "3.9.15"
  }
 },
 "nbformat": 4,
 "nbformat_minor": 1
}
